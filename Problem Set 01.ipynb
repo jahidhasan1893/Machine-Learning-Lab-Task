{
 "cells": [
  {
   "cell_type": "code",
   "execution_count": 20,
   "id": "867e3829",
   "metadata": {},
   "outputs": [],
   "source": [
    "import math\n",
    "import tensorflow as tf\n",
    "from tensorflow.keras import layers, models\n",
    "from tensorflow.keras.preprocessing.image import ImageDataGenerator"
   ]
  },
  {
   "cell_type": "code",
   "execution_count": 2,
   "id": "74f75920",
   "metadata": {},
   "outputs": [],
   "source": [
    "# Set the path to the dataset\n",
    "train_dir = 'C:\\\\Users\\\\User\\\\Downloads\\\\Archive\\\\train'\n",
    "test_dir = 'C:\\\\Users\\\\User\\\\Downloads\\\\Archive\\\\test'\n",
    "val_dir = 'C:\\\\Users\\\\User\\\\Downloads\\\\Archive\\\\val'\n"
   ]
  },
  {
   "cell_type": "code",
   "execution_count": 10,
   "id": "7d4800ac",
   "metadata": {},
   "outputs": [],
   "source": [
    "# Define hyperparameters\n",
    "input_shape = (224, 224, 3)\n",
    "batch_size = 32\n",
    "epochs = 10"
   ]
  },
  {
   "cell_type": "code",
   "execution_count": 11,
   "id": "3f99c5f0",
   "metadata": {},
   "outputs": [],
   "source": [
    "# Create a CNN model\n",
    "model = models.Sequential()\n",
    "model.add(layers.Conv2D(32, (3, 3), activation='relu', input_shape=input_shape))\n",
    "model.add(layers.MaxPooling2D((2, 2)))\n",
    "model.add(layers.Conv2D(64, (3, 3), activation='relu'))\n",
    "model.add(layers.MaxPooling2D((2, 2)))\n",
    "model.add(layers.Conv2D(128, (3, 3), activation='relu'))\n",
    "model.add(layers.MaxPooling2D((2, 2)))\n",
    "model.add(layers.Flatten())\n",
    "model.add(layers.Dense(128, activation='relu'))\n",
    "model.add(layers.Dropout(0.5))\n",
    "model.add(layers.Dense(2, activation='softmax'))  # Output layer for binary classification with 2 classes"
   ]
  },
  {
   "cell_type": "code",
   "execution_count": 12,
   "id": "d7fe275a",
   "metadata": {},
   "outputs": [],
   "source": [
    "# Compile the model\n",
    "model.compile(optimizer='adam',\n",
    "              loss='sparse_categorical_crossentropy',\n",
    "              metrics=['accuracy'])"
   ]
  },
  {
   "cell_type": "code",
   "execution_count": 13,
   "id": "6aac0ab1",
   "metadata": {},
   "outputs": [
    {
     "name": "stdout",
     "output_type": "stream",
     "text": [
      "Found 5216 images belonging to 2 classes.\n",
      "Found 16 images belonging to 2 classes.\n"
     ]
    }
   ],
   "source": [
    "# Create data generators with augmentation for training data\n",
    "train_datagen = ImageDataGenerator(rescale=1./255,\n",
    "                                   shear_range=0.2,\n",
    "                                   zoom_range=0.2,\n",
    "                                   horizontal_flip=True)\n",
    "\n",
    "test_datagen = ImageDataGenerator(rescale=1./255)\n",
    "\n",
    "train_generator = train_datagen.flow_from_directory(train_dir,\n",
    "                                                    target_size=(input_shape[0], input_shape[1]),\n",
    "                                                    batch_size=batch_size,\n",
    "                                                    class_mode='sparse')\n",
    "\n",
    "validation_generator = test_datagen.flow_from_directory(val_dir,\n",
    "                                                        target_size=(input_shape[0], input_shape[1]),\n",
    "                                                        batch_size=batch_size,\n",
    "                                                        class_mode='sparse')"
   ]
  },
  {
   "cell_type": "code",
   "execution_count": 23,
   "id": "3f3863bf",
   "metadata": {},
   "outputs": [],
   "source": [
    "# Calculate steps_per_epoch for training data\n",
    "steps_per_epoch_train = math.ceil(len(train_generator) / batch_size)"
   ]
  },
  {
   "cell_type": "code",
   "execution_count": 24,
   "id": "0f9c597f",
   "metadata": {},
   "outputs": [],
   "source": [
    "# Calculate steps_per_epoch for validation data\n",
    "steps_per_epoch_validation = math.ceil(len(validation_generator) / batch_size)"
   ]
  },
  {
   "cell_type": "code",
   "execution_count": 25,
   "id": "ba94a86f",
   "metadata": {},
   "outputs": [
    {
     "name": "stdout",
     "output_type": "stream",
     "text": [
      "Epoch 1/10\n",
      "6/6 [==============================] - 37s 7s/step - loss: 0.2559 - accuracy: 0.8958 - val_loss: 0.4435 - val_accuracy: 0.8125\n",
      "Epoch 2/10\n",
      "6/6 [==============================] - 15s 2s/step - loss: 0.1729 - accuracy: 0.9375 - val_loss: 0.5521 - val_accuracy: 0.8750\n",
      "Epoch 3/10\n",
      "6/6 [==============================] - 16s 3s/step - loss: 0.2099 - accuracy: 0.9271 - val_loss: 0.9659 - val_accuracy: 0.6875\n",
      "Epoch 4/10\n",
      "6/6 [==============================] - 14s 2s/step - loss: 0.1446 - accuracy: 0.9323 - val_loss: 0.8015 - val_accuracy: 0.8125\n",
      "Epoch 5/10\n",
      "6/6 [==============================] - 14s 2s/step - loss: 0.1936 - accuracy: 0.9115 - val_loss: 1.1295 - val_accuracy: 0.6250\n",
      "Epoch 6/10\n",
      "6/6 [==============================] - 16s 2s/step - loss: 0.1401 - accuracy: 0.9479 - val_loss: 0.8256 - val_accuracy: 0.6875\n",
      "Epoch 7/10\n",
      "6/6 [==============================] - 13s 2s/step - loss: 0.2424 - accuracy: 0.9010 - val_loss: 0.5187 - val_accuracy: 0.8750\n",
      "Epoch 8/10\n",
      "6/6 [==============================] - 14s 2s/step - loss: 0.2098 - accuracy: 0.9219 - val_loss: 0.8882 - val_accuracy: 0.6250\n",
      "Epoch 9/10\n",
      "6/6 [==============================] - 17s 3s/step - loss: 0.2414 - accuracy: 0.9062 - val_loss: 0.5462 - val_accuracy: 0.8125\n",
      "Epoch 10/10\n",
      "6/6 [==============================] - 12s 2s/step - loss: 0.2201 - accuracy: 0.9062 - val_loss: 0.4253 - val_accuracy: 0.8750\n"
     ]
    }
   ],
   "source": [
    "# Train the model\n",
    "try:\n",
    "    history = model.fit(train_generator,\n",
    "                        steps_per_epoch=steps_per_epoch_train,\n",
    "                        epochs=epochs,\n",
    "                        validation_data=validation_generator,\n",
    "                        validation_steps=steps_per_epoch_validation)\n",
    "except Exception as e:\n",
    "    print(\"An error occurred during training:\", e)"
   ]
  },
  {
   "cell_type": "code",
   "execution_count": 26,
   "id": "9f93ce73",
   "metadata": {},
   "outputs": [
    {
     "name": "stdout",
     "output_type": "stream",
     "text": [
      "Found 624 images belonging to 2 classes.\n",
      "19/19 [==============================] - 42s 2s/step - loss: 0.3300 - accuracy: 0.8388\n",
      "Test accuracy: 0.8388158082962036\n"
     ]
    }
   ],
   "source": [
    "# Evaluate the model on the test set\n",
    "test_generator = test_datagen.flow_from_directory(test_dir,\n",
    "                                                  target_size=(input_shape[0], input_shape[1]),\n",
    "                                                  batch_size=batch_size,\n",
    "                                                  class_mode='sparse')\n",
    "\n",
    "test_loss, test_acc = model.evaluate(test_generator, steps=test_generator.samples // batch_size)\n",
    "print(f'Test accuracy: {test_acc}')"
   ]
  },
  {
   "cell_type": "code",
   "execution_count": 27,
   "id": "e4370ea5",
   "metadata": {},
   "outputs": [],
   "source": [
    "# Save the model in Keras native format\n",
    "model.save('image_classification_model.keras')"
   ]
  },
  {
   "cell_type": "code",
   "execution_count": null,
   "id": "051192af",
   "metadata": {},
   "outputs": [],
   "source": []
  }
 ],
 "metadata": {
  "kernelspec": {
   "display_name": "Python 3 (ipykernel)",
   "language": "python",
   "name": "python3"
  },
  "language_info": {
   "codemirror_mode": {
    "name": "ipython",
    "version": 3
   },
   "file_extension": ".py",
   "mimetype": "text/x-python",
   "name": "python",
   "nbconvert_exporter": "python",
   "pygments_lexer": "ipython3",
   "version": "3.11.5"
  }
 },
 "nbformat": 4,
 "nbformat_minor": 5
}
